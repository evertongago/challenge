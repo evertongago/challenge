{
 "cells": [
  {
   "cell_type": "markdown",
   "metadata": {},
   "source": [
    "# Spark Cognition: Challenge"
   ]
  },
  {
   "cell_type": "markdown",
   "metadata": {},
   "source": [
    "<div style=\"text-align:justify\">\n",
    "You are working for SparkCognition as a Data Scientist. SparkCognition has been commissioned by an insurance company to develop a tool to optimize their marketing efforts. They have given us a data set as a result of an email marketing campaign. The data set includes customer information, described below, as a well as whether the customer responded to the marketing campaign or not.\n",
    "</div>"
   ]
  },
  {
   "cell_type": "markdown",
   "metadata": {},
   "source": [
    "## Load Packages"
   ]
  },
  {
   "cell_type": "markdown",
   "metadata": {},
   "source": [
    "<div style=\"text-align:justify\">\n",
    "Here we will load the packages that will be used during the exploratory analysis and modeling. It is worth mentioning that we will use a <code>RandomOverSampler</code> class to generate random records from the minority class and we will compare the results of two algorithms: <code>RandomForestClassifier</code> and <code>MLPClassifier</code>. In both algorithms we will use cross-validation, through the <code>KFold</code> class.\n",
    "</div>"
   ]
  },
  {
   "cell_type": "code",
   "execution_count": 1,
   "metadata": {},
   "outputs": [],
   "source": [
    "import warnings, seaborn, pandas, numpy\n",
    "\n",
    "from matplotlib import pyplot\n",
    "\n",
    "from imblearn.over_sampling import RandomOverSampler\n",
    "\n",
    "from scipy.stats import skew\n",
    "\n",
    "from sklearn import metrics\n",
    "from sklearn.preprocessing import OneHotEncoder\n",
    "from sklearn.preprocessing import StandardScaler\n",
    "from sklearn.neural_network import MLPClassifier\n",
    "from sklearn.ensemble import RandomForestClassifier\n",
    "\n",
    "from sklearn.feature_selection import SelectFromModel\n",
    "from sklearn.model_selection import train_test_split, RandomizedSearchCV, KFold\n",
    "\n",
    "%matplotlib inline"
   ]
  },
  {
   "cell_type": "markdown",
   "metadata": {},
   "source": [
    "## Notebook Configuration"
   ]
  },
  {
   "cell_type": "markdown",
   "metadata": {},
   "source": [
    "<div style=\"text-align:justify\">\n",
    "Next, we will set a default value for the <code>figure.figsize</code> attribute of the <code>matplotlib.pyplot</code> class. This will ensure that all images displayed on the notebook will be the same size.\n",
    "</div>"
   ]
  },
  {
   "cell_type": "code",
   "execution_count": 2,
   "metadata": {},
   "outputs": [],
   "source": [
    "pyplot.rcParams['figure.figsize'] = (15, 7)\n",
    "warnings.filterwarnings('ignore')"
   ]
  },
  {
   "cell_type": "markdown",
   "metadata": {},
   "source": [
    "## Fetch Train Dataset"
   ]
  },
  {
   "cell_type": "markdown",
   "metadata": {},
   "source": [
    "<div style=\"text-align:justify\">\n",
    "After fetch the data we add a filter to remove outliers (<code>custAge> = 70</code>). More details in Block 10, below.\n",
    "</div>"
   ]
  },
  {
   "cell_type": "code",
   "execution_count": 3,
   "metadata": {},
   "outputs": [
    {
     "data": {
      "text/html": [
       "<div>\n",
       "<style scoped>\n",
       "    .dataframe tbody tr th:only-of-type {\n",
       "        vertical-align: middle;\n",
       "    }\n",
       "\n",
       "    .dataframe tbody tr th {\n",
       "        vertical-align: top;\n",
       "    }\n",
       "\n",
       "    .dataframe thead th {\n",
       "        text-align: right;\n",
       "    }\n",
       "</style>\n",
       "<table border=\"1\" class=\"dataframe\">\n",
       "  <thead>\n",
       "    <tr style=\"text-align: right;\">\n",
       "      <th></th>\n",
       "      <th>custAge</th>\n",
       "      <th>profession</th>\n",
       "      <th>marital</th>\n",
       "      <th>schooling</th>\n",
       "      <th>default</th>\n",
       "      <th>housing</th>\n",
       "      <th>loan</th>\n",
       "      <th>contact</th>\n",
       "      <th>month</th>\n",
       "      <th>day_of_week</th>\n",
       "      <th>...</th>\n",
       "      <th>previous</th>\n",
       "      <th>poutcome</th>\n",
       "      <th>emp.var.rate</th>\n",
       "      <th>cons.price.idx</th>\n",
       "      <th>cons.conf.idx</th>\n",
       "      <th>euribor3m</th>\n",
       "      <th>nr.employed</th>\n",
       "      <th>pmonths</th>\n",
       "      <th>pastEmail</th>\n",
       "      <th>responded</th>\n",
       "    </tr>\n",
       "  </thead>\n",
       "  <tbody>\n",
       "    <tr>\n",
       "      <th>0</th>\n",
       "      <td>55.0</td>\n",
       "      <td>admin.</td>\n",
       "      <td>single</td>\n",
       "      <td>university.degree</td>\n",
       "      <td>unknown</td>\n",
       "      <td>no</td>\n",
       "      <td>no</td>\n",
       "      <td>cellular</td>\n",
       "      <td>nov</td>\n",
       "      <td>mon</td>\n",
       "      <td>...</td>\n",
       "      <td>0</td>\n",
       "      <td>nonexistent</td>\n",
       "      <td>-0.1</td>\n",
       "      <td>93.200</td>\n",
       "      <td>-42.0</td>\n",
       "      <td>4.191</td>\n",
       "      <td>5195.8</td>\n",
       "      <td>999.0</td>\n",
       "      <td>0</td>\n",
       "      <td>no</td>\n",
       "    </tr>\n",
       "    <tr>\n",
       "      <th>1</th>\n",
       "      <td>NaN</td>\n",
       "      <td>blue-collar</td>\n",
       "      <td>married</td>\n",
       "      <td>NaN</td>\n",
       "      <td>no</td>\n",
       "      <td>no</td>\n",
       "      <td>no</td>\n",
       "      <td>cellular</td>\n",
       "      <td>jul</td>\n",
       "      <td>mon</td>\n",
       "      <td>...</td>\n",
       "      <td>0</td>\n",
       "      <td>nonexistent</td>\n",
       "      <td>1.4</td>\n",
       "      <td>93.918</td>\n",
       "      <td>-42.7</td>\n",
       "      <td>4.960</td>\n",
       "      <td>5228.1</td>\n",
       "      <td>999.0</td>\n",
       "      <td>0</td>\n",
       "      <td>no</td>\n",
       "    </tr>\n",
       "    <tr>\n",
       "      <th>2</th>\n",
       "      <td>42.0</td>\n",
       "      <td>technician</td>\n",
       "      <td>married</td>\n",
       "      <td>high.school</td>\n",
       "      <td>no</td>\n",
       "      <td>no</td>\n",
       "      <td>no</td>\n",
       "      <td>telephone</td>\n",
       "      <td>may</td>\n",
       "      <td>mon</td>\n",
       "      <td>...</td>\n",
       "      <td>0</td>\n",
       "      <td>nonexistent</td>\n",
       "      <td>1.1</td>\n",
       "      <td>93.994</td>\n",
       "      <td>-36.4</td>\n",
       "      <td>4.857</td>\n",
       "      <td>5191.0</td>\n",
       "      <td>999.0</td>\n",
       "      <td>0</td>\n",
       "      <td>no</td>\n",
       "    </tr>\n",
       "    <tr>\n",
       "      <th>3</th>\n",
       "      <td>55.0</td>\n",
       "      <td>management</td>\n",
       "      <td>divorced</td>\n",
       "      <td>NaN</td>\n",
       "      <td>unknown</td>\n",
       "      <td>yes</td>\n",
       "      <td>yes</td>\n",
       "      <td>cellular</td>\n",
       "      <td>jul</td>\n",
       "      <td>wed</td>\n",
       "      <td>...</td>\n",
       "      <td>0</td>\n",
       "      <td>nonexistent</td>\n",
       "      <td>1.4</td>\n",
       "      <td>93.918</td>\n",
       "      <td>-42.7</td>\n",
       "      <td>4.962</td>\n",
       "      <td>5228.1</td>\n",
       "      <td>999.0</td>\n",
       "      <td>0</td>\n",
       "      <td>no</td>\n",
       "    </tr>\n",
       "    <tr>\n",
       "      <th>4</th>\n",
       "      <td>NaN</td>\n",
       "      <td>admin.</td>\n",
       "      <td>divorced</td>\n",
       "      <td>university.degree</td>\n",
       "      <td>no</td>\n",
       "      <td>yes</td>\n",
       "      <td>no</td>\n",
       "      <td>cellular</td>\n",
       "      <td>may</td>\n",
       "      <td>tue</td>\n",
       "      <td>...</td>\n",
       "      <td>1</td>\n",
       "      <td>failure</td>\n",
       "      <td>-1.8</td>\n",
       "      <td>92.893</td>\n",
       "      <td>-46.2</td>\n",
       "      <td>1.291</td>\n",
       "      <td>5099.1</td>\n",
       "      <td>999.0</td>\n",
       "      <td>1</td>\n",
       "      <td>no</td>\n",
       "    </tr>\n",
       "  </tbody>\n",
       "</table>\n",
       "<p>5 rows × 22 columns</p>\n",
       "</div>"
      ],
      "text/plain": [
       "   custAge   profession   marital          schooling  default housing loan  \\\n",
       "0     55.0       admin.    single  university.degree  unknown      no   no   \n",
       "1      NaN  blue-collar   married                NaN       no      no   no   \n",
       "2     42.0   technician   married        high.school       no      no   no   \n",
       "3     55.0   management  divorced                NaN  unknown     yes  yes   \n",
       "4      NaN       admin.  divorced  university.degree       no     yes   no   \n",
       "\n",
       "     contact month day_of_week  ...  previous     poutcome  emp.var.rate  \\\n",
       "0   cellular   nov         mon  ...         0  nonexistent          -0.1   \n",
       "1   cellular   jul         mon  ...         0  nonexistent           1.4   \n",
       "2  telephone   may         mon  ...         0  nonexistent           1.1   \n",
       "3   cellular   jul         wed  ...         0  nonexistent           1.4   \n",
       "4   cellular   may         tue  ...         1      failure          -1.8   \n",
       "\n",
       "  cons.price.idx  cons.conf.idx  euribor3m  nr.employed  pmonths  pastEmail  \\\n",
       "0         93.200          -42.0      4.191       5195.8    999.0          0   \n",
       "1         93.918          -42.7      4.960       5228.1    999.0          0   \n",
       "2         93.994          -36.4      4.857       5191.0    999.0          0   \n",
       "3         93.918          -42.7      4.962       5228.1    999.0          0   \n",
       "4         92.893          -46.2      1.291       5099.1    999.0          1   \n",
       "\n",
       "   responded  \n",
       "0         no  \n",
       "1         no  \n",
       "2         no  \n",
       "3         no  \n",
       "4         no  \n",
       "\n",
       "[5 rows x 22 columns]"
      ]
     },
     "execution_count": 3,
     "metadata": {},
     "output_type": "execute_result"
    }
   ],
   "source": [
    "df = pandas.read_csv('marketing_training.csv')\n",
    "df = df[(df['custAge'] < 70) | (df['custAge'].isna())] # drop outliers\n",
    "df.head(5)"
   ]
  },
  {
   "cell_type": "markdown",
   "metadata": {},
   "source": [
    "## Missing Value Indicators - Categorical Columns"
   ]
  },
  {
   "cell_type": "markdown",
   "metadata": {},
   "source": [
    "<div style=\"text-align:justify\">\n",
    "Two categorical columns contain null values: <code>pmonths</code> and <code>day_of_week</code>. To indicate when these columns are empty, let's create two new columns that can take on binary values: <code>not_prev_cont</code> and <code>is_empty_day</code>.\n",
    "</div>\n",
    "<br>\n",
    "We will do the treatment of missing values later."
   ]
  },
  {
   "cell_type": "code",
   "execution_count": 4,
   "metadata": {},
   "outputs": [],
   "source": [
    "def empty_indicator(df):\n",
    "    df['not_prev_cont'] = df['pmonths'].apply(lambda x : 1 if x == 999 else 0)\n",
    "    df['is_empty_day'] = 0\n",
    "    df.loc[df['day_of_week'].isna(), 'is_empty_day'] = 1\n",
    "    return df\n",
    "\n",
    "df = empty_indicator(df)"
   ]
  },
  {
   "cell_type": "markdown",
   "metadata": {},
   "source": [
    "## Dataset Distribution - Imbalanced Labels"
   ]
  },
  {
   "cell_type": "markdown",
   "metadata": {},
   "source": [
    "<div style=\"text-align:justify\">\n",
    "It is possible to observe that the dataset is unbalanced and a small portion of the records have the label <code>yes</code>. Later on we will have to resolve the data imbalance.\n",
    "</div>"
   ]
  },
  {
   "cell_type": "code",
   "execution_count": 5,
   "metadata": {},
   "outputs": [
    {
     "data": {
      "text/plain": [
       "no     6528\n",
       "yes     806\n",
       "Name: responded, dtype: int64"
      ]
     },
     "execution_count": 5,
     "metadata": {},
     "output_type": "execute_result"
    }
   ],
   "source": [
    "df['responded'].value_counts()"
   ]
  },
  {
   "cell_type": "markdown",
   "metadata": {},
   "source": [
    "## Column Types"
   ]
  },
  {
   "cell_type": "markdown",
   "metadata": {},
   "source": [
    "<div style=\"text-align:justify\">\n",
    "Here we will separate the variables into three categories: <code>categorical columns, numerical columns</code> and <code>binary columns</code>. This separation is important so that we can apply the appropriate treatment for each type of variable.\n",
    "</div>"
   ]
  },
  {
   "cell_type": "code",
   "execution_count": 6,
   "metadata": {},
   "outputs": [
    {
     "name": "stdout",
     "output_type": "stream",
     "text": [
      "Numerical Cols:\n",
      "\n",
      "{'campaign', 'nr.employed', 'cons.conf.idx', 'euribor3m', 'previous', 'emp.var.rate', 'pastEmail', 'pmonths', 'cons.price.idx', 'pdays', 'custAge'}\n"
     ]
    }
   ],
   "source": [
    "categorical_cols = [\n",
    "    'profession', 'marital', 'schooling', 'default', 'housing',\n",
    "    'loan', 'month', 'day_of_week', 'poutcome', 'contact'\n",
    "]\n",
    "\n",
    "binary_cols = ['not_prev_cont', 'is_empty_day']\n",
    "\n",
    "remove = ['responded']\n",
    "numerical_cols = set(df.columns) - (set(categorical_cols + binary_cols + remove))\n",
    "\n",
    "print('Numerical Cols:\\n\\n{}'.format(numerical_cols))"
   ]
  },
  {
   "cell_type": "markdown",
   "metadata": {},
   "source": [
    "## Correlation Plot"
   ]
  },
  {
   "cell_type": "markdown",
   "metadata": {},
   "source": [
    "<div style=\"text-align:justify\">\n",
    "Next, we will analyze the correlation between numerical (continuous) variables. The positive correlation between many variables can indicate collinearity, but that is not a problem for the task we are doing. If we were trying to solve a regression problem, it might be a good idea to apply a dimensionality reduction technique for (<code>PCA</code> or <code>LDA</code>) to remove the collinearity between the data, through the geometric transformation of latent space, but for the classification task that we are carrying out this should not bring gain.\n",
    "</div>"
   ]
  },
  {
   "cell_type": "code",
   "execution_count": 7,
   "metadata": {},
   "outputs": [
    {
     "data": {
      "text/plain": [
       "<AxesSubplot:>"
      ]
     },
     "execution_count": 7,
     "metadata": {},
     "output_type": "execute_result"
    },
    {
     "data": {
      "image/png": "[encoded data removed]",
      "text/plain": [
       "<Figure size 1080x504 with 2 Axes>"
      ]
     },
     "metadata": {
      "needs_background": "light"
     },
     "output_type": "display_data"
    }
   ],
   "source": [
    "cr = df[numerical_cols].corr()\n",
    "\n",
    "mk = numpy.zeros_like(cr, dtype=numpy.bool)\n",
    "mk[numpy.triu_indices_from(mk)] = True\n",
    "cm = seaborn.diverging_palette(220, 10, as_cmap=True)\n",
    "cbar_kws={\"shrink\":.5}\n",
    "\n",
    "seaborn.heatmap(cr, mask=mk, cmap=cm, center=0, square=True, linewidths=.5, cbar_kws=cbar_kws)"
   ]
  },
  {
   "cell_type": "markdown",
   "metadata": {},
   "source": [
    "## Missing Values"
   ]
  },
  {
   "cell_type": "markdown",
   "metadata": {},
   "source": [
    "<div style=\"text-align:justify\">\n",
    "There are three variables with missing values, they are: <code>custAge, schooling</code> and <code>day_of_week</code>. The <code>schooling</code> and <code>day_of_week</code> variables\n",
    "they are categorical and we will only indicate a default value when they do not exist. The <code>custAge</code> variable is numeric and we will analyze it in more detail to decide how to fill in the missing values.\n",
    "</div>"
   ]
  },
  {
   "cell_type": "code",
   "execution_count": 8,
   "metadata": {},
   "outputs": [
    {
     "data": {
      "text/plain": [
       "custAge           1804\n",
       "profession           0\n",
       "marital              0\n",
       "schooling         2127\n",
       "default              0\n",
       "housing              0\n",
       "loan                 0\n",
       "contact              0\n",
       "month                0\n",
       "day_of_week        705\n",
       "campaign             0\n",
       "pdays                0\n",
       "previous             0\n",
       "poutcome             0\n",
       "emp.var.rate         0\n",
       "cons.price.idx       0\n",
       "cons.conf.idx        0\n",
       "euribor3m            0\n",
       "nr.employed          0\n",
       "pmonths              0\n",
       "pastEmail            0\n",
       "responded            0\n",
       "not_prev_cont        0\n",
       "is_empty_day         0\n",
       "dtype: int64"
      ]
     },
     "execution_count": 8,
     "metadata": {},
     "output_type": "execute_result"
    }
   ],
   "source": [
    "df.isnull().sum()"
   ]
  },
  {
   "cell_type": "markdown",
   "metadata": {},
   "source": [
    "## Customer Age"
   ]
  },
  {
   "cell_type": "markdown",
   "metadata": {},
   "source": [
    "Detailed analysis of the Customer Age variable"
   ]
  },
  {
   "cell_type": "markdown",
   "metadata": {},
   "source": [
    "### Sample Skewness"
   ]
  },
  {
   "cell_type": "markdown",
   "metadata": {},
   "source": [
    "<div style=\"text-align:justify\">\n",
    "We can see that the variable has a high rate of asymmetry, this means that we will have to normalize it. This normalization is made later, in Block 15.\n",
    "</div>"
   ]
  },
  {
   "cell_type": "code",
   "execution_count": 9,
   "metadata": {},
   "outputs": [
    {
     "name": "stdout",
     "output_type": "stream",
     "text": [
      "Skewness Rate: 0.4477330239487144\n"
     ]
    },
    {
     "data": {
      "text/plain": [
       "[]"
      ]
     },
     "execution_count": 9,
     "metadata": {},
     "output_type": "execute_result"
    },
    {
     "data": {
      "image/png": "[encoded data removed]",
      "text/plain": [
       "<Figure size 1080x504 with 1 Axes>"
      ]
     },
     "metadata": {
      "needs_background": "light"
     },
     "output_type": "display_data"
    }
   ],
   "source": [
    "cust_age_values = df[~df['custAge'].isna()]['custAge'].values\n",
    "print('Skewness Rate: {}'.format(skew(cust_age_values)))\n",
    "pyplot.hist(cust_age_values)\n",
    "pyplot.plot()"
   ]
  },
  {
   "cell_type": "markdown",
   "metadata": {},
   "source": [
    "### Boxplot - Target Correlation"
   ]
  },
  {
   "cell_type": "markdown",
   "metadata": {},
   "source": [
    "<div style=\"text-align:justify\">\n",
    "We can also observe that there is no strong correlation between the <code>custAge</code> variable and the target variable. We can also notice that for the medians of both classes (<code>no</code> / <code>yes</code>) they are very similar, indicating that this can be a good value to fill in the missing data.\n",
    "</div>\n",
    "<br>\n",
    "In both classes there are outliers to be removed. <code>custAge> = 70</code>."
   ]
  },
  {
   "cell_type": "code",
   "execution_count": 10,
   "metadata": {},
   "outputs": [
    {
     "data": {
      "image/png": "[encoded data removed]",
      "text/plain": [
       "<Figure size 1080x504 with 1 Axes>"
      ]
     },
     "metadata": {
      "needs_background": "light"
     },
     "output_type": "display_data"
    }
   ],
   "source": [
    "df[['custAge','responded']].boxplot(['custAge'], 'responded')\n",
    "pyplot.show()"
   ]
  },
  {
   "cell_type": "markdown",
   "metadata": {},
   "source": [
    "## Schooling"
   ]
  },
  {
   "cell_type": "markdown",
   "metadata": {},
   "source": [
    "<div style=\"text-align:justify\">\n",
    "This is a categorical variable. In this case, we will create a value that indicates that the column is empty. We will do that later, in Block 13.\n",
    "</div>"
   ]
  },
  {
   "cell_type": "code",
   "execution_count": 11,
   "metadata": {},
   "outputs": [
    {
     "data": {
      "text/plain": [
       "university.degree      1549\n",
       "high.school            1210\n",
       "basic.9y                781\n",
       "professional.course     662\n",
       "basic.4y                507\n",
       "basic.6y                275\n",
       "unknown                 222\n",
       "illiterate                1\n",
       "Name: schooling, dtype: int64"
      ]
     },
     "execution_count": 11,
     "metadata": {},
     "output_type": "execute_result"
    }
   ],
   "source": [
    "df['schooling'].value_counts()"
   ]
  },
  {
   "cell_type": "markdown",
   "metadata": {},
   "source": [
    "## Day of Week"
   ]
  },
  {
   "cell_type": "markdown",
   "metadata": {},
   "source": [
    "<div style=\"text-align:justify\">\n",
    "This is a categorical variable. In this case, we will create a value that indicates that the column is empty. We will do this later, in the next block (Block 13).\n",
    "</div>"
   ]
  },
  {
   "cell_type": "code",
   "execution_count": 12,
   "metadata": {},
   "outputs": [
    {
     "data": {
      "text/plain": [
       "mon    1424\n",
       "thu    1362\n",
       "tue    1317\n",
       "wed    1286\n",
       "fri    1240\n",
       "Name: day_of_week, dtype: int64"
      ]
     },
     "execution_count": 12,
     "metadata": {},
     "output_type": "execute_result"
    }
   ],
   "source": [
    "df['day_of_week'].value_counts()"
   ]
  },
  {
   "cell_type": "markdown",
   "metadata": {},
   "source": [
    "## Resolve Missing Values"
   ]
  },
  {
   "cell_type": "markdown",
   "metadata": {},
   "source": [
    "<div style=\"text-align:justify\">\n",
    "For the <code>schooling</code> and <code>day_of_week</code> categorical variables we will create a value indicating when the column is empty (<i>empty</i>). For the <code>custAge</code> variable, we will use the median to solve the missing values. Block 10 shows more details about choosing the median.</div>"
   ]
  },
  {
   "cell_type": "code",
   "execution_count": 13,
   "metadata": {},
   "outputs": [
    {
     "data": {
      "text/plain": [
       "custAge           0\n",
       "profession        0\n",
       "marital           0\n",
       "schooling         0\n",
       "default           0\n",
       "housing           0\n",
       "loan              0\n",
       "contact           0\n",
       "month             0\n",
       "day_of_week       0\n",
       "campaign          0\n",
       "pdays             0\n",
       "previous          0\n",
       "poutcome          0\n",
       "emp.var.rate      0\n",
       "cons.price.idx    0\n",
       "cons.conf.idx     0\n",
       "euribor3m         0\n",
       "nr.employed       0\n",
       "pmonths           0\n",
       "pastEmail         0\n",
       "responded         0\n",
       "not_prev_cont     0\n",
       "is_empty_day      0\n",
       "dtype: int64"
      ]
     },
     "execution_count": 13,
     "metadata": {},
     "output_type": "execute_result"
    }
   ],
   "source": [
    "def resolve_missing_values(df):\n",
    "    df_missing = df.copy()\n",
    "\n",
    "    age_avg = df_missing['custAge'].median()\n",
    "    df_missing['custAge'] = df_missing['custAge'].fillna(age_avg)\n",
    "\n",
    "    df_missing['schooling'] = df_missing['schooling'].fillna('empty')\n",
    "    df_missing['day_of_week'] = df_missing['day_of_week'].fillna('empty')\n",
    "    \n",
    "    return df_missing\n",
    "\n",
    "df_missing = resolve_missing_values(df)\n",
    "df_missing.isnull().sum()"
   ]
  },
  {
   "cell_type": "markdown",
   "metadata": {},
   "source": [
    "## Isolate Binary Columns"
   ]
  },
  {
   "cell_type": "code",
   "execution_count": 14,
   "metadata": {},
   "outputs": [],
   "source": [
    "bin_values = df_missing[binary_cols].values\n",
    "df_binary = pandas.DataFrame(data=bin_values, columns=['not_prev_cont', 'is_empty_day'])"
   ]
  },
  {
   "cell_type": "markdown",
   "metadata": {},
   "source": [
    "## Isolate Numerical Columns"
   ]
  },
  {
   "cell_type": "markdown",
   "metadata": {},
   "source": [
    "<div style=\"text-align:justify\">\n",
    "As noted in Block 9, the continuous variables may not be normalized and this may hinder the convergence of machine learning algorithms. Next, we will normalize the values with mean = 0 and standard deviation = 1. We will use the <code>StandardScaler</code> class for this normalization. Other normalizations could be used here, like <code>MinMaxScaler</code> and <code>Yeo-johnson</code>. I opted for the normalization of mean = 0 to guarantee the distribution center at a controlled value.\n",
    "</div>"
   ]
  },
  {
   "cell_type": "code",
   "execution_count": 15,
   "metadata": {},
   "outputs": [
    {
     "data": {
      "text/html": [
       "<div>\n",
       "<style scoped>\n",
       "    .dataframe tbody tr th:only-of-type {\n",
       "        vertical-align: middle;\n",
       "    }\n",
       "\n",
       "    .dataframe tbody tr th {\n",
       "        vertical-align: top;\n",
       "    }\n",
       "\n",
       "    .dataframe thead th {\n",
       "        text-align: right;\n",
       "    }\n",
       "</style>\n",
       "<table border=\"1\" class=\"dataframe\">\n",
       "  <thead>\n",
       "    <tr style=\"text-align: right;\">\n",
       "      <th></th>\n",
       "      <th>0</th>\n",
       "      <th>1</th>\n",
       "      <th>2</th>\n",
       "      <th>3</th>\n",
       "      <th>4</th>\n",
       "      <th>5</th>\n",
       "      <th>6</th>\n",
       "      <th>7</th>\n",
       "      <th>8</th>\n",
       "      <th>9</th>\n",
       "      <th>10</th>\n",
       "    </tr>\n",
       "  </thead>\n",
       "  <tbody>\n",
       "    <tr>\n",
       "      <th>0</th>\n",
       "      <td>-0.564086</td>\n",
       "      <td>0.404011</td>\n",
       "      <td>-0.302511</td>\n",
       "      <td>0.334155</td>\n",
       "      <td>-0.351202</td>\n",
       "      <td>-0.114728</td>\n",
       "      <td>-0.283913</td>\n",
       "      <td>0.196255</td>\n",
       "      <td>-0.652901</td>\n",
       "      <td>0.196254</td>\n",
       "      <td>1.897969</td>\n",
       "    </tr>\n",
       "    <tr>\n",
       "      <th>1</th>\n",
       "      <td>-0.564086</td>\n",
       "      <td>0.853563</td>\n",
       "      <td>-0.454918</td>\n",
       "      <td>0.778416</td>\n",
       "      <td>-0.351202</td>\n",
       "      <td>0.850490</td>\n",
       "      <td>-0.283913</td>\n",
       "      <td>0.196255</td>\n",
       "      <td>0.597399</td>\n",
       "      <td>0.196254</td>\n",
       "      <td>-0.132257</td>\n",
       "    </tr>\n",
       "    <tr>\n",
       "      <th>2</th>\n",
       "      <td>-0.564086</td>\n",
       "      <td>0.337204</td>\n",
       "      <td>0.916746</td>\n",
       "      <td>0.718911</td>\n",
       "      <td>-0.351202</td>\n",
       "      <td>0.657446</td>\n",
       "      <td>-0.283913</td>\n",
       "      <td>0.196255</td>\n",
       "      <td>0.729742</td>\n",
       "      <td>0.196254</td>\n",
       "      <td>0.345444</td>\n",
       "    </tr>\n",
       "    <tr>\n",
       "      <th>3</th>\n",
       "      <td>-0.193718</td>\n",
       "      <td>0.853563</td>\n",
       "      <td>-0.454918</td>\n",
       "      <td>0.779571</td>\n",
       "      <td>-0.351202</td>\n",
       "      <td>0.850490</td>\n",
       "      <td>-0.283913</td>\n",
       "      <td>0.196255</td>\n",
       "      <td>0.597399</td>\n",
       "      <td>0.196254</td>\n",
       "      <td>1.897969</td>\n",
       "    </tr>\n",
       "    <tr>\n",
       "      <th>4</th>\n",
       "      <td>0.917385</td>\n",
       "      <td>-0.941863</td>\n",
       "      <td>-1.216953</td>\n",
       "      <td>-1.341211</td>\n",
       "      <td>1.634698</td>\n",
       "      <td>-1.208641</td>\n",
       "      <td>0.530727</td>\n",
       "      <td>0.196255</td>\n",
       "      <td>-1.187501</td>\n",
       "      <td>0.196254</td>\n",
       "      <td>-0.132257</td>\n",
       "    </tr>\n",
       "  </tbody>\n",
       "</table>\n",
       "</div>"
      ],
      "text/plain": [
       "         0         1         2         3         4         5         6   \\\n",
       "0 -0.564086  0.404011 -0.302511  0.334155 -0.351202 -0.114728 -0.283913   \n",
       "1 -0.564086  0.853563 -0.454918  0.778416 -0.351202  0.850490 -0.283913   \n",
       "2 -0.564086  0.337204  0.916746  0.718911 -0.351202  0.657446 -0.283913   \n",
       "3 -0.193718  0.853563 -0.454918  0.779571 -0.351202  0.850490 -0.283913   \n",
       "4  0.917385 -0.941863 -1.216953 -1.341211  1.634698 -1.208641  0.530727   \n",
       "\n",
       "         7         8         9         10  \n",
       "0  0.196255 -0.652901  0.196254  1.897969  \n",
       "1  0.196255  0.597399  0.196254 -0.132257  \n",
       "2  0.196255  0.729742  0.196254  0.345444  \n",
       "3  0.196255  0.597399  0.196254  1.897969  \n",
       "4  0.196255 -1.187501  0.196254 -0.132257  "
      ]
     },
     "execution_count": 15,
     "metadata": {},
     "output_type": "execute_result"
    }
   ],
   "source": [
    "num_values = df_missing[numerical_cols].values\n",
    "\n",
    "scaler = StandardScaler().fit(num_values)\n",
    "df_scaled_num = pandas.DataFrame(data=scaler.transform(num_values))\n",
    "\n",
    "df_scaled_num.head()"
   ]
  },
  {
   "cell_type": "markdown",
   "metadata": {},
   "source": [
    "## Isolate Categorical Columns"
   ]
  },
  {
   "cell_type": "markdown",
   "metadata": {},
   "source": [
    "<div style=\"text-align:justify\">\n",
    "Some algorithms are able to work directly with categorical variables, most cases of the decision tree models for example. However, most models need to be transformed into value. For this reason, we will transform categorical variables into the One-Hot Encoding format.\n",
    "</div>"
   ]
  },
  {
   "cell_type": "code",
   "execution_count": 16,
   "metadata": {},
   "outputs": [
    {
     "data": {
      "text/html": [
       "<div>\n",
       "<style scoped>\n",
       "    .dataframe tbody tr th:only-of-type {\n",
       "        vertical-align: middle;\n",
       "    }\n",
       "\n",
       "    .dataframe tbody tr th {\n",
       "        vertical-align: top;\n",
       "    }\n",
       "\n",
       "    .dataframe thead th {\n",
       "        text-align: right;\n",
       "    }\n",
       "</style>\n",
       "<table border=\"1\" class=\"dataframe\">\n",
       "  <thead>\n",
       "    <tr style=\"text-align: right;\">\n",
       "      <th></th>\n",
       "      <th>profession_admin.</th>\n",
       "      <th>profession_blue-collar</th>\n",
       "      <th>profession_entrepreneur</th>\n",
       "      <th>profession_housemaid</th>\n",
       "      <th>profession_management</th>\n",
       "      <th>profession_retired</th>\n",
       "      <th>profession_self-employed</th>\n",
       "      <th>profession_services</th>\n",
       "      <th>profession_student</th>\n",
       "      <th>profession_technician</th>\n",
       "      <th>...</th>\n",
       "      <th>4</th>\n",
       "      <th>5</th>\n",
       "      <th>6</th>\n",
       "      <th>7</th>\n",
       "      <th>8</th>\n",
       "      <th>9</th>\n",
       "      <th>10</th>\n",
       "      <th>not_prev_cont</th>\n",
       "      <th>is_empty_day</th>\n",
       "      <th>target</th>\n",
       "    </tr>\n",
       "  </thead>\n",
       "  <tbody>\n",
       "    <tr>\n",
       "      <th>0</th>\n",
       "      <td>1.0</td>\n",
       "      <td>0.0</td>\n",
       "      <td>0.0</td>\n",
       "      <td>0.0</td>\n",
       "      <td>0.0</td>\n",
       "      <td>0.0</td>\n",
       "      <td>0.0</td>\n",
       "      <td>0.0</td>\n",
       "      <td>0.0</td>\n",
       "      <td>0.0</td>\n",
       "      <td>...</td>\n",
       "      <td>-0.351202</td>\n",
       "      <td>-0.114728</td>\n",
       "      <td>-0.283913</td>\n",
       "      <td>0.196255</td>\n",
       "      <td>-0.652901</td>\n",
       "      <td>0.196254</td>\n",
       "      <td>1.897969</td>\n",
       "      <td>1</td>\n",
       "      <td>0</td>\n",
       "      <td>no</td>\n",
       "    </tr>\n",
       "    <tr>\n",
       "      <th>1</th>\n",
       "      <td>0.0</td>\n",
       "      <td>1.0</td>\n",
       "      <td>0.0</td>\n",
       "      <td>0.0</td>\n",
       "      <td>0.0</td>\n",
       "      <td>0.0</td>\n",
       "      <td>0.0</td>\n",
       "      <td>0.0</td>\n",
       "      <td>0.0</td>\n",
       "      <td>0.0</td>\n",
       "      <td>...</td>\n",
       "      <td>-0.351202</td>\n",
       "      <td>0.850490</td>\n",
       "      <td>-0.283913</td>\n",
       "      <td>0.196255</td>\n",
       "      <td>0.597399</td>\n",
       "      <td>0.196254</td>\n",
       "      <td>-0.132257</td>\n",
       "      <td>1</td>\n",
       "      <td>0</td>\n",
       "      <td>no</td>\n",
       "    </tr>\n",
       "    <tr>\n",
       "      <th>2</th>\n",
       "      <td>0.0</td>\n",
       "      <td>0.0</td>\n",
       "      <td>0.0</td>\n",
       "      <td>0.0</td>\n",
       "      <td>0.0</td>\n",
       "      <td>0.0</td>\n",
       "      <td>0.0</td>\n",
       "      <td>0.0</td>\n",
       "      <td>0.0</td>\n",
       "      <td>1.0</td>\n",
       "      <td>...</td>\n",
       "      <td>-0.351202</td>\n",
       "      <td>0.657446</td>\n",
       "      <td>-0.283913</td>\n",
       "      <td>0.196255</td>\n",
       "      <td>0.729742</td>\n",
       "      <td>0.196254</td>\n",
       "      <td>0.345444</td>\n",
       "      <td>1</td>\n",
       "      <td>0</td>\n",
       "      <td>no</td>\n",
       "    </tr>\n",
       "    <tr>\n",
       "      <th>3</th>\n",
       "      <td>0.0</td>\n",
       "      <td>0.0</td>\n",
       "      <td>0.0</td>\n",
       "      <td>0.0</td>\n",
       "      <td>1.0</td>\n",
       "      <td>0.0</td>\n",
       "      <td>0.0</td>\n",
       "      <td>0.0</td>\n",
       "      <td>0.0</td>\n",
       "      <td>0.0</td>\n",
       "      <td>...</td>\n",
       "      <td>-0.351202</td>\n",
       "      <td>0.850490</td>\n",
       "      <td>-0.283913</td>\n",
       "      <td>0.196255</td>\n",
       "      <td>0.597399</td>\n",
       "      <td>0.196254</td>\n",
       "      <td>1.897969</td>\n",
       "      <td>1</td>\n",
       "      <td>0</td>\n",
       "      <td>no</td>\n",
       "    </tr>\n",
       "    <tr>\n",
       "      <th>4</th>\n",
       "      <td>1.0</td>\n",
       "      <td>0.0</td>\n",
       "      <td>0.0</td>\n",
       "      <td>0.0</td>\n",
       "      <td>0.0</td>\n",
       "      <td>0.0</td>\n",
       "      <td>0.0</td>\n",
       "      <td>0.0</td>\n",
       "      <td>0.0</td>\n",
       "      <td>0.0</td>\n",
       "      <td>...</td>\n",
       "      <td>1.634698</td>\n",
       "      <td>-1.208641</td>\n",
       "      <td>0.530727</td>\n",
       "      <td>0.196255</td>\n",
       "      <td>-1.187501</td>\n",
       "      <td>0.196254</td>\n",
       "      <td>-0.132257</td>\n",
       "      <td>1</td>\n",
       "      <td>0</td>\n",
       "      <td>no</td>\n",
       "    </tr>\n",
       "  </tbody>\n",
       "</table>\n",
       "<p>5 rows × 69 columns</p>\n",
       "</div>"
      ],
      "text/plain": [
       "   profession_admin.  profession_blue-collar  profession_entrepreneur  \\\n",
       "0                1.0                     0.0                      0.0   \n",
       "1                0.0                     1.0                      0.0   \n",
       "2                0.0                     0.0                      0.0   \n",
       "3                0.0                     0.0                      0.0   \n",
       "4                1.0                     0.0                      0.0   \n",
       "\n",
       "   profession_housemaid  profession_management  profession_retired  \\\n",
       "0                   0.0                    0.0                 0.0   \n",
       "1                   0.0                    0.0                 0.0   \n",
       "2                   0.0                    0.0                 0.0   \n",
       "3                   0.0                    1.0                 0.0   \n",
       "4                   0.0                    0.0                 0.0   \n",
       "\n",
       "   profession_self-employed  profession_services  profession_student  \\\n",
       "0                       0.0                  0.0                 0.0   \n",
       "1                       0.0                  0.0                 0.0   \n",
       "2                       0.0                  0.0                 0.0   \n",
       "3                       0.0                  0.0                 0.0   \n",
       "4                       0.0                  0.0                 0.0   \n",
       "\n",
       "   profession_technician  ...         4         5         6         7  \\\n",
       "0                    0.0  ... -0.351202 -0.114728 -0.283913  0.196255   \n",
       "1                    0.0  ... -0.351202  0.850490 -0.283913  0.196255   \n",
       "2                    1.0  ... -0.351202  0.657446 -0.283913  0.196255   \n",
       "3                    0.0  ... -0.351202  0.850490 -0.283913  0.196255   \n",
       "4                    0.0  ...  1.634698 -1.208641  0.530727  0.196255   \n",
       "\n",
       "          8         9        10  not_prev_cont  is_empty_day  target  \n",
       "0 -0.652901  0.196254  1.897969              1             0      no  \n",
       "1  0.597399  0.196254 -0.132257              1             0      no  \n",
       "2  0.729742  0.196254  0.345444              1             0      no  \n",
       "3  0.597399  0.196254  1.897969              1             0      no  \n",
       "4 -1.187501  0.196254 -0.132257              1             0      no  \n",
       "\n",
       "[5 rows x 69 columns]"
      ]
     },
     "execution_count": 16,
     "metadata": {},
     "output_type": "execute_result"
    }
   ],
   "source": [
    "encoder = OneHotEncoder()\n",
    "encoder.fit(df_missing[categorical_cols])\n",
    "column_name = encoder.get_feature_names(categorical_cols)\n",
    "\n",
    "df_features = pandas.DataFrame(\n",
    "    encoder.transform(df_missing[categorical_cols]).toarray(),\n",
    "    columns=column_name\n",
    ")\n",
    "\n",
    "df_features = df_features.join(df_scaled_num)\n",
    "df_features = df_features.join(df_binary)\n",
    "\n",
    "df_features['target'] = df['responded'].values\n",
    "\n",
    "df_features.head()"
   ]
  },
  {
   "cell_type": "markdown",
   "metadata": {},
   "source": [
    "## Train / Test Split"
   ]
  },
  {
   "cell_type": "markdown",
   "metadata": {},
   "source": [
    "<div style=\"text-align:justify\">\n",
    "Here we will separate the training and test data from the model. We will use 70% of the data for training and reserve 30% for testing.\n",
    "</div>"
   ]
  },
  {
   "cell_type": "markdown",
   "metadata": {},
   "source": [
    "### Train Dataset"
   ]
  },
  {
   "cell_type": "code",
   "execution_count": 17,
   "metadata": {},
   "outputs": [
    {
     "data": {
      "text/plain": [
       "no     4569\n",
       "yes     565\n",
       "Name: target, dtype: int64"
      ]
     },
     "execution_count": 17,
     "metadata": {},
     "output_type": "execute_result"
    }
   ],
   "source": [
    "df_data_tra = df_features.sample(frac=0.70, random_state=42)\n",
    "df_data_tra['target'].value_counts()"
   ]
  },
  {
   "cell_type": "markdown",
   "metadata": {},
   "source": [
    "### Test Dataset"
   ]
  },
  {
   "cell_type": "code",
   "execution_count": 18,
   "metadata": {},
   "outputs": [
    {
     "data": {
      "text/plain": [
       "no     1959\n",
       "yes     241\n",
       "Name: target, dtype: int64"
      ]
     },
     "execution_count": 18,
     "metadata": {},
     "output_type": "execute_result"
    }
   ],
   "source": [
    "df_data_tes = df_features.drop(df_data_tra.index)\n",
    "df_data_tes['target'].value_counts()"
   ]
  },
  {
   "cell_type": "markdown",
   "metadata": {},
   "source": [
    "### Balancing Labels"
   ]
  },
  {
   "cell_type": "markdown",
   "metadata": {},
   "source": [
    "<div style=\"text-align:justify\">\n",
    "The data is unbalanced (there are many more records for a specific class), so let's use the <code>RandomOverSampler</code> class to do this balancing. An alternative would be to use the <code>SMOTE</code> class, but I chose the <code>RandomOverSampler</code> class because it uses a normal distribution with mean = 0. This was the criterion used for data normalization (Block 15) .\n",
    "</div>"
   ]
  },
  {
   "cell_type": "code",
   "execution_count": 19,
   "metadata": {},
   "outputs": [],
   "source": [
    "X_tra = df_data_tra.drop(['target'], axis=1).values\n",
    "y_tra = df_data_tra[['target']].values\n",
    "\n",
    "X_tes = df_data_tes.drop(['target'], axis=1).values\n",
    "y_tes = df_data_tes[['target']].values\n",
    "\n",
    "oversample = RandomOverSampler(random_state=42)\n",
    "X_over, y_over = oversample.fit_resample(X_tra, y_tra)"
   ]
  },
  {
   "cell_type": "markdown",
   "metadata": {},
   "source": [
    "## Auxiliar Plot Functions"
   ]
  },
  {
   "cell_type": "markdown",
   "metadata": {},
   "source": [
    "### Plot ROC Curve"
   ]
  },
  {
   "cell_type": "code",
   "execution_count": 20,
   "metadata": {},
   "outputs": [],
   "source": [
    "def plot_roc_curve(classifier, X_tes, y_tes):\n",
    "    metrics.plot_roc_curve(classifier, X_tes, y_tes)\n",
    "    pyplot.show()"
   ]
  },
  {
   "cell_type": "markdown",
   "metadata": {},
   "source": [
    "### Plot Precision Recall Curve"
   ]
  },
  {
   "cell_type": "code",
   "execution_count": 21,
   "metadata": {},
   "outputs": [],
   "source": [
    "def plot_precision_recall_curve(classifier, X_tes):\n",
    "    y_scores = classifier.predict_proba(X_tes)[:, 1]\n",
    "    yn_tes = numpy.where(y_tes == 'yes', 1, 0)\n",
    "\n",
    "    precisions, recalls, thresholds = metrics.precision_recall_curve(yn_tes, y_scores)\n",
    "\n",
    "    pyplot.title('Precision and Recall Scores as a function of the decision threshold')\n",
    "    pyplot.plot(thresholds, precisions[:-1], 'b--', label='Precision')\n",
    "    pyplot.plot(thresholds, recalls[:-1], 'g-', label='Recall')\n",
    "    pyplot.ylabel('Score')\n",
    "    pyplot.xlabel('Decision Threshold')\n",
    "    pyplot.legend(loc='best')"
   ]
  },
  {
   "cell_type": "markdown",
   "metadata": {},
   "source": [
    "### Print Model Statistics"
   ]
  },
  {
   "cell_type": "code",
   "execution_count": 22,
   "metadata": {},
   "outputs": [],
   "source": [
    "def evaluate(classifier, X_tes, th):\n",
    "    y_prd = ['yes' if x > th else 'no' for x in classifier.predict_proba(X_tes)[:, 1]]\n",
    "    print(metrics.classification_report(y_tes, y_prd))\n",
    "    \n",
    "    return y_prd"
   ]
  },
  {
   "cell_type": "markdown",
   "metadata": {},
   "source": [
    "### Plot Confusion Matrix"
   ]
  },
  {
   "cell_type": "code",
   "execution_count": 23,
   "metadata": {},
   "outputs": [],
   "source": [
    "def plot_confusion_matrix(y_tes, y_prd):\n",
    "    cm = metrics.confusion_matrix(y_tes, y_prd)\n",
    "    cmd = metrics.ConfusionMatrixDisplay(cm, display_labels=['no','yes'])\n",
    "\n",
    "    cmd.plot()\n",
    "\n",
    "    pyplot.xticks(rotation=0)\n",
    "    pyplot.show()"
   ]
  },
  {
   "cell_type": "markdown",
   "metadata": {},
   "source": [
    "## Cross Validation"
   ]
  },
  {
   "cell_type": "markdown",
   "metadata": {},
   "source": [
    "<div style=\"text-align:justify\">\n",
    "In K-Fold, you normally divide your data set between 5–10 groups, then you randomly choose one of the groups to be the validation or test group. The rest of the groups come together, to train their model and apply the validation group to compare the result and see what the error rate was. This method is repeated until all groups have passed the validation group and all have an error percentage.\n",
    "</div>"
   ]
  },
  {
   "cell_type": "code",
   "execution_count": 24,
   "metadata": {},
   "outputs": [],
   "source": [
    "kfold = KFold(n_splits=3, shuffle=True, random_state=42)"
   ]
  },
  {
   "cell_type": "markdown",
   "metadata": {},
   "source": [
    "<div style=\"text-align:justify\">\n",
    "We are going to evaluate two algorithms. We chose an algorithm with gradient-based optimization (<i>Multilayer Perceptron</i>) and an Ensemble. Both algorithms fit nonlinearly separable data.\n",
    "</div>"
   ]
  },
  {
   "cell_type": "markdown",
   "metadata": {},
   "source": [
    "## Model 1: Random Forest"
   ]
  },
  {
   "cell_type": "markdown",
   "metadata": {},
   "source": [
    "<div style=\"text-align:justify\">\n",
    "We will optimize the model according to the <code>f1_micro</code> metric, which is the <code>f1-score</code>. This is to ensure that we have the best possible balance between precision and recall.\n",
    "</div>"
   ]
  },
  {
   "cell_type": "code",
   "execution_count": 25,
   "metadata": {},
   "outputs": [
    {
     "name": "stdout",
     "output_type": "stream",
     "text": [
      "Fitting 3 folds for each of 5 candidates, totalling 15 fits\n"
     ]
    },
    {
     "name": "stderr",
     "output_type": "stream",
     "text": [
      "[Parallel(n_jobs=4)]: Using backend LokyBackend with 4 concurrent workers.\n",
      "[Parallel(n_jobs=4)]: Done  15 out of  15 | elapsed:   24.1s finished\n"
     ]
    }
   ],
   "source": [
    "param_search = { \n",
    "    'n_estimators': [500, 1000],\n",
    "    'max_features': ['auto', 'sqrt', 'log2'],\n",
    "    'max_depth': [4, 5, 6, 7, 8, 10],\n",
    "    'criterion': ['gini', 'entropy']\n",
    "}\n",
    "\n",
    "rf_rss = RandomizedSearchCV(\n",
    "    RandomForestClassifier(random_state=42),\n",
    "    param_distributions=param_search,\n",
    "    n_iter=5,\n",
    "    scoring='f1_micro',\n",
    "    n_jobs=4,\n",
    "    cv=kfold,\n",
    "    verbose=3,\n",
    "    random_state=42\n",
    ")\n",
    "\n",
    "rf_rss.fit(X_over, y_over)\n",
    "rf_classifier = rf_rss.best_estimator_"
   ]
  },
  {
   "cell_type": "markdown",
   "metadata": {},
   "source": [
    "### ROC Curve"
   ]
  },
  {
   "cell_type": "code",
   "execution_count": 26,
   "metadata": {},
   "outputs": [
    {
     "data": {
      "image/png": "[encoded data removed]",
      "text/plain": [
       "<Figure size 1080x504 with 1 Axes>"
      ]
     },
     "metadata": {
      "needs_background": "light"
     },
     "output_type": "display_data"
    }
   ],
   "source": [
    "plot_roc_curve(rf_classifier, X_tes, y_tes)"
   ]
  },
  {
   "cell_type": "markdown",
   "metadata": {},
   "source": [
    "### Precision Recall Curves - Decision Threshold"
   ]
  },
  {
   "cell_type": "markdown",
   "metadata": {},
   "source": [
    "<div style=\"text-align:justify\">\n",
    "The point that maximizes precision and recall is <code>0.65</code>.\n",
    "</div>"
   ]
  },
  {
   "cell_type": "code",
   "execution_count": 27,
   "metadata": {},
   "outputs": [
    {
     "data": {
      "image/png": "[encoded data removed]",
      "text/plain": [
       "<Figure size 1080x504 with 1 Axes>"
      ]
     },
     "metadata": {
      "needs_background": "light"
     },
     "output_type": "display_data"
    }
   ],
   "source": [
    "plot_precision_recall_curve(rf_classifier, X_tes)"
   ]
  },
  {
   "cell_type": "markdown",
   "metadata": {},
   "source": [
    "### Classification Report"
   ]
  },
  {
   "cell_type": "code",
   "execution_count": 28,
   "metadata": {},
   "outputs": [
    {
     "name": "stdout",
     "output_type": "stream",
     "text": [
      "              precision    recall  f1-score   support\n",
      "\n",
      "          no       0.94      0.93      0.93      1959\n",
      "         yes       0.47      0.49      0.48       241\n",
      "\n",
      "    accuracy                           0.88      2200\n",
      "   macro avg       0.70      0.71      0.71      2200\n",
      "weighted avg       0.89      0.88      0.88      2200\n",
      "\n"
     ]
    }
   ],
   "source": [
    "rf_y_prd = evaluate(rf_classifier, X_tes, th=0.65)"
   ]
  },
  {
   "cell_type": "markdown",
   "metadata": {},
   "source": [
    "### Confusion Matrix"
   ]
  },
  {
   "cell_type": "code",
   "execution_count": 29,
   "metadata": {},
   "outputs": [
    {
     "data": {
      "image/png": "[encoded data removed]",
      "text/plain": [
       "<Figure size 1080x504 with 2 Axes>"
      ]
     },
     "metadata": {
      "needs_background": "light"
     },
     "output_type": "display_data"
    }
   ],
   "source": [
    "plot_confusion_matrix(y_tes, rf_y_prd)"
   ]
  },
  {
   "cell_type": "markdown",
   "metadata": {},
   "source": [
    "## Model 2: Multilayer Perceptron"
   ]
  },
  {
   "cell_type": "code",
   "execution_count": 30,
   "metadata": {},
   "outputs": [
    {
     "name": "stdout",
     "output_type": "stream",
     "text": [
      "Fitting 3 folds for each of 5 candidates, totalling 15 fits\n"
     ]
    },
    {
     "name": "stderr",
     "output_type": "stream",
     "text": [
      "[Parallel(n_jobs=4)]: Using backend LokyBackend with 4 concurrent workers.\n",
      "[Parallel(n_jobs=4)]: Done  15 out of  15 | elapsed:   44.2s finished\n"
     ]
    }
   ],
   "source": [
    "param_search = {\n",
    "    'activation': ['tanh', 'relu'],\n",
    "    'solver': ['sgd', 'adam'],\n",
    "    'alpha': [0.0001, 0.05],\n",
    "    'learning_rate': ['constant', 'adaptive'],\n",
    "    'early_stopping': [True, False],\n",
    "    'validation_fraction': [0.1, 0.2],\n",
    "    'epsilon': [1e-10, 1e-8, 1e-7, 1e-5],\n",
    "    'momentum': [0.6, 0.7, 0.8, 0.9]\n",
    "}\n",
    "\n",
    "nn_rss = RandomizedSearchCV(\n",
    "    MLPClassifier(random_state=42),\n",
    "    param_distributions=param_search,\n",
    "    n_iter=5,\n",
    "    scoring='f1_micro',\n",
    "    n_jobs=4,\n",
    "    cv=kfold,\n",
    "    verbose=3,\n",
    "    random_state=42\n",
    ")\n",
    "\n",
    "nn_rss.fit(X_over, y_over)\n",
    "nn_classifier = nn_rss.best_estimator_"
   ]
  },
  {
   "cell_type": "markdown",
   "metadata": {},
   "source": [
    "### ROC Curve"
   ]
  },
  {
   "cell_type": "code",
   "execution_count": 31,
   "metadata": {},
   "outputs": [
    {
     "data": {
      "image/png": "[encoded data removed]",
      "text/plain": [
       "<Figure size 1080x504 with 1 Axes>"
      ]
     },
     "metadata": {
      "needs_background": "light"
     },
     "output_type": "display_data"
    }
   ],
   "source": [
    "plot_roc_curve(nn_classifier, X_tes, y_tes)"
   ]
  },
  {
   "cell_type": "markdown",
   "metadata": {},
   "source": [
    "### Precision Recall Curves - Decision Threshold"
   ]
  },
  {
   "cell_type": "markdown",
   "metadata": {},
   "source": [
    "<div style=\"text-align:justify\">\n",
    "The point that maximizes precision and recall is <code>0.6</code>.\n",
    "</div>"
   ]
  },
  {
   "cell_type": "code",
   "execution_count": 32,
   "metadata": {},
   "outputs": [
    {
     "data": {
      "image/png": "[encoded data removed]",
      "text/plain": [
       "<Figure size 1080x504 with 1 Axes>"
      ]
     },
     "metadata": {
      "needs_background": "light"
     },
     "output_type": "display_data"
    }
   ],
   "source": [
    "plot_precision_recall_curve(nn_classifier, X_tes)"
   ]
  },
  {
   "cell_type": "markdown",
   "metadata": {},
   "source": [
    "### Classification Report"
   ]
  },
  {
   "cell_type": "code",
   "execution_count": 33,
   "metadata": {},
   "outputs": [
    {
     "name": "stdout",
     "output_type": "stream",
     "text": [
      "              precision    recall  f1-score   support\n",
      "\n",
      "          no       0.92      0.91      0.92      1959\n",
      "         yes       0.33      0.36      0.34       241\n",
      "\n",
      "    accuracy                           0.85      2200\n",
      "   macro avg       0.62      0.63      0.63      2200\n",
      "weighted avg       0.86      0.85      0.85      2200\n",
      "\n"
     ]
    }
   ],
   "source": [
    "nn_y_prd = evaluate(nn_classifier, X_tes, th=0.5)"
   ]
  },
  {
   "cell_type": "markdown",
   "metadata": {},
   "source": [
    "### Confusion matrix"
   ]
  },
  {
   "cell_type": "code",
   "execution_count": 34,
   "metadata": {},
   "outputs": [
    {
     "data": {
      "image/png": "[encoded data removed]",
      "text/plain": [
       "<Figure size 1080x504 with 2 Axes>"
      ]
     },
     "metadata": {
      "needs_background": "light"
     },
     "output_type": "display_data"
    }
   ],
   "source": [
    "plot_confusion_matrix(y_tes, nn_y_prd)"
   ]
  },
  {
   "cell_type": "markdown",
   "metadata": {},
   "source": [
    "## Conclusion"
   ]
  },
  {
   "cell_type": "markdown",
   "metadata": {},
   "source": [
    "<div style=\"text-align:justify\">\n",
    "We compared the two models and found that <code>Model 1: Random Forest</code> has a better result, comparing the <code>f1-score</code> metric of the minority class. Now we will apply this model to the test data, which will be validated by Spark Cognition.\n",
    "</div>"
   ]
  },
  {
   "cell_type": "markdown",
   "metadata": {},
   "source": [
    "### Fetch Test Dataset"
   ]
  },
  {
   "cell_type": "code",
   "execution_count": 35,
   "metadata": {},
   "outputs": [
    {
     "data": {
      "text/html": [
       "<div>\n",
       "<style scoped>\n",
       "    .dataframe tbody tr th:only-of-type {\n",
       "        vertical-align: middle;\n",
       "    }\n",
       "\n",
       "    .dataframe tbody tr th {\n",
       "        vertical-align: top;\n",
       "    }\n",
       "\n",
       "    .dataframe thead th {\n",
       "        text-align: right;\n",
       "    }\n",
       "</style>\n",
       "<table border=\"1\" class=\"dataframe\">\n",
       "  <thead>\n",
       "    <tr style=\"text-align: right;\">\n",
       "      <th></th>\n",
       "      <th>Unnamed: 0</th>\n",
       "      <th>custAge</th>\n",
       "      <th>profession</th>\n",
       "      <th>marital</th>\n",
       "      <th>schooling</th>\n",
       "      <th>default</th>\n",
       "      <th>housing</th>\n",
       "      <th>loan</th>\n",
       "      <th>contact</th>\n",
       "      <th>month</th>\n",
       "      <th>...</th>\n",
       "      <th>pdays</th>\n",
       "      <th>previous</th>\n",
       "      <th>poutcome</th>\n",
       "      <th>emp.var.rate</th>\n",
       "      <th>cons.price.idx</th>\n",
       "      <th>cons.conf.idx</th>\n",
       "      <th>euribor3m</th>\n",
       "      <th>nr.employed</th>\n",
       "      <th>pmonths</th>\n",
       "      <th>pastEmail</th>\n",
       "    </tr>\n",
       "  </thead>\n",
       "  <tbody>\n",
       "    <tr>\n",
       "      <th>0</th>\n",
       "      <td>0</td>\n",
       "      <td>NaN</td>\n",
       "      <td>entrepreneur</td>\n",
       "      <td>married</td>\n",
       "      <td>university.degree</td>\n",
       "      <td>no</td>\n",
       "      <td>yes</td>\n",
       "      <td>no</td>\n",
       "      <td>cellular</td>\n",
       "      <td>jul</td>\n",
       "      <td>...</td>\n",
       "      <td>999</td>\n",
       "      <td>0</td>\n",
       "      <td>nonexistent</td>\n",
       "      <td>1.4</td>\n",
       "      <td>93.918</td>\n",
       "      <td>-42.7</td>\n",
       "      <td>4.963</td>\n",
       "      <td>5228.1</td>\n",
       "      <td>999.0</td>\n",
       "      <td>0</td>\n",
       "    </tr>\n",
       "    <tr>\n",
       "      <th>1</th>\n",
       "      <td>1</td>\n",
       "      <td>58.0</td>\n",
       "      <td>entrepreneur</td>\n",
       "      <td>married</td>\n",
       "      <td>university.degree</td>\n",
       "      <td>unknown</td>\n",
       "      <td>no</td>\n",
       "      <td>no</td>\n",
       "      <td>telephone</td>\n",
       "      <td>jun</td>\n",
       "      <td>...</td>\n",
       "      <td>999</td>\n",
       "      <td>0</td>\n",
       "      <td>nonexistent</td>\n",
       "      <td>1.4</td>\n",
       "      <td>94.465</td>\n",
       "      <td>-41.8</td>\n",
       "      <td>4.959</td>\n",
       "      <td>5228.1</td>\n",
       "      <td>999.0</td>\n",
       "      <td>0</td>\n",
       "    </tr>\n",
       "    <tr>\n",
       "      <th>2</th>\n",
       "      <td>2</td>\n",
       "      <td>48.0</td>\n",
       "      <td>entrepreneur</td>\n",
       "      <td>married</td>\n",
       "      <td>NaN</td>\n",
       "      <td>no</td>\n",
       "      <td>no</td>\n",
       "      <td>no</td>\n",
       "      <td>cellular</td>\n",
       "      <td>jul</td>\n",
       "      <td>...</td>\n",
       "      <td>999</td>\n",
       "      <td>0</td>\n",
       "      <td>nonexistent</td>\n",
       "      <td>1.4</td>\n",
       "      <td>93.918</td>\n",
       "      <td>-42.7</td>\n",
       "      <td>4.960</td>\n",
       "      <td>5228.1</td>\n",
       "      <td>999.0</td>\n",
       "      <td>0</td>\n",
       "    </tr>\n",
       "    <tr>\n",
       "      <th>3</th>\n",
       "      <td>3</td>\n",
       "      <td>35.0</td>\n",
       "      <td>blue-collar</td>\n",
       "      <td>married</td>\n",
       "      <td>NaN</td>\n",
       "      <td>no</td>\n",
       "      <td>yes</td>\n",
       "      <td>no</td>\n",
       "      <td>telephone</td>\n",
       "      <td>jun</td>\n",
       "      <td>...</td>\n",
       "      <td>999</td>\n",
       "      <td>0</td>\n",
       "      <td>nonexistent</td>\n",
       "      <td>1.4</td>\n",
       "      <td>94.465</td>\n",
       "      <td>-41.8</td>\n",
       "      <td>4.864</td>\n",
       "      <td>5228.1</td>\n",
       "      <td>999.0</td>\n",
       "      <td>0</td>\n",
       "    </tr>\n",
       "    <tr>\n",
       "      <th>4</th>\n",
       "      <td>4</td>\n",
       "      <td>39.0</td>\n",
       "      <td>blue-collar</td>\n",
       "      <td>married</td>\n",
       "      <td>basic.6y</td>\n",
       "      <td>no</td>\n",
       "      <td>no</td>\n",
       "      <td>no</td>\n",
       "      <td>cellular</td>\n",
       "      <td>jul</td>\n",
       "      <td>...</td>\n",
       "      <td>999</td>\n",
       "      <td>0</td>\n",
       "      <td>nonexistent</td>\n",
       "      <td>1.4</td>\n",
       "      <td>93.918</td>\n",
       "      <td>-42.7</td>\n",
       "      <td>4.960</td>\n",
       "      <td>5228.1</td>\n",
       "      <td>999.0</td>\n",
       "      <td>0</td>\n",
       "    </tr>\n",
       "  </tbody>\n",
       "</table>\n",
       "<p>5 rows × 22 columns</p>\n",
       "</div>"
      ],
      "text/plain": [
       "   Unnamed: 0  custAge    profession  marital          schooling  default  \\\n",
       "0           0      NaN  entrepreneur  married  university.degree       no   \n",
       "1           1     58.0  entrepreneur  married  university.degree  unknown   \n",
       "2           2     48.0  entrepreneur  married                NaN       no   \n",
       "3           3     35.0   blue-collar  married                NaN       no   \n",
       "4           4     39.0   blue-collar  married           basic.6y       no   \n",
       "\n",
       "  housing loan    contact month  ... pdays  previous     poutcome  \\\n",
       "0     yes   no   cellular   jul  ...   999         0  nonexistent   \n",
       "1      no   no  telephone   jun  ...   999         0  nonexistent   \n",
       "2      no   no   cellular   jul  ...   999         0  nonexistent   \n",
       "3     yes   no  telephone   jun  ...   999         0  nonexistent   \n",
       "4      no   no   cellular   jul  ...   999         0  nonexistent   \n",
       "\n",
       "   emp.var.rate cons.price.idx  cons.conf.idx  euribor3m  nr.employed  \\\n",
       "0           1.4         93.918          -42.7      4.963       5228.1   \n",
       "1           1.4         94.465          -41.8      4.959       5228.1   \n",
       "2           1.4         93.918          -42.7      4.960       5228.1   \n",
       "3           1.4         94.465          -41.8      4.864       5228.1   \n",
       "4           1.4         93.918          -42.7      4.960       5228.1   \n",
       "\n",
       "   pmonths  pastEmail  \n",
       "0    999.0          0  \n",
       "1    999.0          0  \n",
       "2    999.0          0  \n",
       "3    999.0          0  \n",
       "4    999.0          0  \n",
       "\n",
       "[5 rows x 22 columns]"
      ]
     },
     "execution_count": 35,
     "metadata": {},
     "output_type": "execute_result"
    }
   ],
   "source": [
    "df_resp = pandas.read_csv('marketing_test.csv')\n",
    "df_resp.head(5)"
   ]
  },
  {
   "cell_type": "markdown",
   "metadata": {},
   "source": [
    "### Resolve Missing Values"
   ]
  },
  {
   "cell_type": "code",
   "execution_count": 36,
   "metadata": {},
   "outputs": [
    {
     "data": {
      "text/plain": [
       "Unnamed: 0        0\n",
       "custAge           0\n",
       "profession        0\n",
       "marital           0\n",
       "schooling         0\n",
       "default           0\n",
       "housing           0\n",
       "loan              0\n",
       "contact           0\n",
       "month             0\n",
       "day_of_week       0\n",
       "campaign          0\n",
       "pdays             0\n",
       "previous          0\n",
       "poutcome          0\n",
       "emp.var.rate      0\n",
       "cons.price.idx    0\n",
       "cons.conf.idx     0\n",
       "euribor3m         0\n",
       "nr.employed       0\n",
       "pmonths           0\n",
       "pastEmail         0\n",
       "not_prev_cont     0\n",
       "is_empty_day      0\n",
       "dtype: int64"
      ]
     },
     "execution_count": 36,
     "metadata": {},
     "output_type": "execute_result"
    }
   ],
   "source": [
    "df_resp_msv = resolve_missing_values(df_resp)\n",
    "df_resp_msv = empty_indicator(df_resp_msv)\n",
    "\n",
    "df_resp_msv.isnull().sum()"
   ]
  },
  {
   "cell_type": "markdown",
   "metadata": {},
   "source": [
    "### Isolate Binary Columns"
   ]
  },
  {
   "cell_type": "code",
   "execution_count": 37,
   "metadata": {},
   "outputs": [],
   "source": [
    "bin_values_resp = df_resp_msv[binary_cols].values\n",
    "df_binary_resp = pandas.DataFrame(data=bin_values_resp, columns=['not_prev_cont','is_empty_day'])"
   ]
  },
  {
   "cell_type": "markdown",
   "metadata": {},
   "source": [
    "### Isolate Numerical Columns"
   ]
  },
  {
   "cell_type": "code",
   "execution_count": 38,
   "metadata": {},
   "outputs": [
    {
     "data": {
      "text/html": [
       "<div>\n",
       "<style scoped>\n",
       "    .dataframe tbody tr th:only-of-type {\n",
       "        vertical-align: middle;\n",
       "    }\n",
       "\n",
       "    .dataframe tbody tr th {\n",
       "        vertical-align: top;\n",
       "    }\n",
       "\n",
       "    .dataframe thead th {\n",
       "        text-align: right;\n",
       "    }\n",
       "</style>\n",
       "<table border=\"1\" class=\"dataframe\">\n",
       "  <thead>\n",
       "    <tr style=\"text-align: right;\">\n",
       "      <th></th>\n",
       "      <th>0</th>\n",
       "      <th>1</th>\n",
       "      <th>2</th>\n",
       "      <th>3</th>\n",
       "      <th>4</th>\n",
       "      <th>5</th>\n",
       "      <th>6</th>\n",
       "      <th>7</th>\n",
       "      <th>8</th>\n",
       "      <th>9</th>\n",
       "      <th>10</th>\n",
       "    </tr>\n",
       "  </thead>\n",
       "  <tbody>\n",
       "    <tr>\n",
       "      <th>0</th>\n",
       "      <td>-0.193718</td>\n",
       "      <td>0.853563</td>\n",
       "      <td>-0.454918</td>\n",
       "      <td>0.780149</td>\n",
       "      <td>-0.351202</td>\n",
       "      <td>0.85049</td>\n",
       "      <td>-0.283913</td>\n",
       "      <td>0.196255</td>\n",
       "      <td>0.597399</td>\n",
       "      <td>0.196254</td>\n",
       "      <td>-0.132257</td>\n",
       "    </tr>\n",
       "    <tr>\n",
       "      <th>1</th>\n",
       "      <td>-0.564086</td>\n",
       "      <td>0.853563</td>\n",
       "      <td>-0.258966</td>\n",
       "      <td>0.777838</td>\n",
       "      <td>-0.351202</td>\n",
       "      <td>0.85049</td>\n",
       "      <td>-0.283913</td>\n",
       "      <td>0.196255</td>\n",
       "      <td>1.549925</td>\n",
       "      <td>0.196254</td>\n",
       "      <td>2.256244</td>\n",
       "    </tr>\n",
       "    <tr>\n",
       "      <th>2</th>\n",
       "      <td>-0.564086</td>\n",
       "      <td>0.853563</td>\n",
       "      <td>-0.454918</td>\n",
       "      <td>0.778416</td>\n",
       "      <td>-0.351202</td>\n",
       "      <td>0.85049</td>\n",
       "      <td>-0.283913</td>\n",
       "      <td>0.196255</td>\n",
       "      <td>0.597399</td>\n",
       "      <td>0.196254</td>\n",
       "      <td>1.061994</td>\n",
       "    </tr>\n",
       "    <tr>\n",
       "      <th>3</th>\n",
       "      <td>0.547017</td>\n",
       "      <td>0.853563</td>\n",
       "      <td>-0.258966</td>\n",
       "      <td>0.722955</td>\n",
       "      <td>-0.351202</td>\n",
       "      <td>0.85049</td>\n",
       "      <td>-0.283913</td>\n",
       "      <td>0.196255</td>\n",
       "      <td>1.549925</td>\n",
       "      <td>0.196254</td>\n",
       "      <td>-0.490532</td>\n",
       "    </tr>\n",
       "    <tr>\n",
       "      <th>4</th>\n",
       "      <td>-0.564086</td>\n",
       "      <td>0.853563</td>\n",
       "      <td>-0.454918</td>\n",
       "      <td>0.778416</td>\n",
       "      <td>-0.351202</td>\n",
       "      <td>0.85049</td>\n",
       "      <td>-0.283913</td>\n",
       "      <td>0.196255</td>\n",
       "      <td>0.597399</td>\n",
       "      <td>0.196254</td>\n",
       "      <td>-0.012832</td>\n",
       "    </tr>\n",
       "  </tbody>\n",
       "</table>\n",
       "</div>"
      ],
      "text/plain": [
       "         0         1         2         3         4        5         6   \\\n",
       "0 -0.193718  0.853563 -0.454918  0.780149 -0.351202  0.85049 -0.283913   \n",
       "1 -0.564086  0.853563 -0.258966  0.777838 -0.351202  0.85049 -0.283913   \n",
       "2 -0.564086  0.853563 -0.454918  0.778416 -0.351202  0.85049 -0.283913   \n",
       "3  0.547017  0.853563 -0.258966  0.722955 -0.351202  0.85049 -0.283913   \n",
       "4 -0.564086  0.853563 -0.454918  0.778416 -0.351202  0.85049 -0.283913   \n",
       "\n",
       "         7         8         9         10  \n",
       "0  0.196255  0.597399  0.196254 -0.132257  \n",
       "1  0.196255  1.549925  0.196254  2.256244  \n",
       "2  0.196255  0.597399  0.196254  1.061994  \n",
       "3  0.196255  1.549925  0.196254 -0.490532  \n",
       "4  0.196255  0.597399  0.196254 -0.012832  "
      ]
     },
     "execution_count": 38,
     "metadata": {},
     "output_type": "execute_result"
    }
   ],
   "source": [
    "num_values_resp = df_resp_msv[numerical_cols].values\n",
    "\n",
    "# use trained scaler\n",
    "df_scaled_num_resp = pandas.DataFrame(data=scaler.transform(num_values_resp))\n",
    "df_scaled_num_resp.head()"
   ]
  },
  {
   "cell_type": "markdown",
   "metadata": {},
   "source": [
    "### Isolate Categorical Columns and Predict"
   ]
  },
  {
   "cell_type": "code",
   "execution_count": 39,
   "metadata": {},
   "outputs": [
    {
     "data": {
      "text/html": [
       "<div>\n",
       "<style scoped>\n",
       "    .dataframe tbody tr th:only-of-type {\n",
       "        vertical-align: middle;\n",
       "    }\n",
       "\n",
       "    .dataframe tbody tr th {\n",
       "        vertical-align: top;\n",
       "    }\n",
       "\n",
       "    .dataframe thead th {\n",
       "        text-align: right;\n",
       "    }\n",
       "</style>\n",
       "<table border=\"1\" class=\"dataframe\">\n",
       "  <thead>\n",
       "    <tr style=\"text-align: right;\">\n",
       "      <th></th>\n",
       "      <th>id</th>\n",
       "      <th>label</th>\n",
       "    </tr>\n",
       "  </thead>\n",
       "  <tbody>\n",
       "    <tr>\n",
       "      <th>0</th>\n",
       "      <td>0</td>\n",
       "      <td>no</td>\n",
       "    </tr>\n",
       "    <tr>\n",
       "      <th>1</th>\n",
       "      <td>1</td>\n",
       "      <td>no</td>\n",
       "    </tr>\n",
       "    <tr>\n",
       "      <th>2</th>\n",
       "      <td>2</td>\n",
       "      <td>no</td>\n",
       "    </tr>\n",
       "    <tr>\n",
       "      <th>3</th>\n",
       "      <td>3</td>\n",
       "      <td>no</td>\n",
       "    </tr>\n",
       "    <tr>\n",
       "      <th>4</th>\n",
       "      <td>4</td>\n",
       "      <td>no</td>\n",
       "    </tr>\n",
       "  </tbody>\n",
       "</table>\n",
       "</div>"
      ],
      "text/plain": [
       "   id label\n",
       "0   0    no\n",
       "1   1    no\n",
       "2   2    no\n",
       "3   3    no\n",
       "4   4    no"
      ]
     },
     "execution_count": 39,
     "metadata": {},
     "output_type": "execute_result"
    }
   ],
   "source": [
    "df_features_resp = pandas.DataFrame(\n",
    "    encoder.transform(df_resp_msv[categorical_cols]).toarray(),\n",
    "    columns=column_name\n",
    ")\n",
    "\n",
    "df_features_resp = df_features_resp.join(df_scaled_num_resp)\n",
    "df_features_resp = df_features_resp.join(df_binary_resp)\n",
    "\n",
    "labels = rf_classifier.predict_proba(df_features_resp.values)[:, 1]\n",
    "df_features_resp['label'] = ['yes' if x > 0.65 else 'no' for x in labels]\n",
    "\n",
    "df_features_resp['id'] = df_resp['Unnamed: 0'].values\n",
    "\n",
    "df_labeled = df_features_resp[['id','label']]\n",
    "df_labeled.head()"
   ]
  },
  {
   "cell_type": "markdown",
   "metadata": {},
   "source": [
    "### Save Labeled Records"
   ]
  },
  {
   "cell_type": "code",
   "execution_count": 40,
   "metadata": {},
   "outputs": [
    {
     "data": {
      "text/plain": [
       "no     733\n",
       "yes     91\n",
       "Name: label, dtype: int64"
      ]
     },
     "execution_count": 40,
     "metadata": {},
     "output_type": "execute_result"
    }
   ],
   "source": [
    "df_labeled.to_csv('output.csv', index=False)\n",
    "df_labeled['label'].value_counts()"
   ]
  }
 ],
 "metadata": {
  "kernelspec": {
   "display_name": "Python 3",
   "language": "python",
   "name": "python3"
  },
  "language_info": {
   "codemirror_mode": {
    "name": "ipython",
    "version": 3
   },
   "file_extension": ".py",
   "mimetype": "text/x-python",
   "name": "python",
   "nbconvert_exporter": "python",
   "pygments_lexer": "ipython3",
   "version": "3.8.5"
  }
 },
 "nbformat": 4,
 "nbformat_minor": 4
}
